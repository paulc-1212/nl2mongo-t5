{
 "cells": [
  {
   "cell_type": "markdown",
   "id": "08866767",
   "metadata": {},
   "source": [
    "## Debug python_inference_api"
   ]
  },
  {
   "cell_type": "code",
   "execution_count": null,
   "id": "386fa5a9",
   "metadata": {},
   "outputs": [],
   "source": [
    "!curl -X POST http://localhost:9990/predict \\\n",
    "  -H \"accept: application/json\" \\\n",
    "  -H \"Content-Type: application/json\" \\\n",
    "  -d '{ \"nlq\": \"Which users are from Germany and UK and have > 10 bookings so far\" }'"
   ]
  }
 ],
 "metadata": {
  "kernelspec": {
   "display_name": "ml",
   "language": "python",
   "name": "python3"
  },
  "language_info": {
   "codemirror_mode": {
    "name": "ipython",
    "version": 3
   },
   "file_extension": ".py",
   "mimetype": "text/x-python",
   "name": "python",
   "nbconvert_exporter": "python",
   "pygments_lexer": "ipython3",
   "version": "3.9.16"
  }
 },
 "nbformat": 4,
 "nbformat_minor": 5
}
