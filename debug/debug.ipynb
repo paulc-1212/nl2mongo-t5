{
 "cells": [
  {
   "cell_type": "markdown",
   "id": "08866767",
   "metadata": {},
   "source": [
    "## Debug python_inference_api"
   ]
  },
  {
   "cell_type": "code",
   "execution_count": null,
   "id": "386fa5a9",
   "metadata": {},
   "outputs": [],
   "source": [
    "!curl -X POST http://localhost:9990/predict \\\n",
    "  -H \"accept: application/json\" \\\n",
    "  -H \"Content-Type: application/json\" \\\n",
    "  -d '{ \"nlq\": \"Which users are from Germany and UK and have > 10 bookings so far\" }'"
   ]
  },
  {
   "cell_type": "markdown",
   "id": "061c90bb",
   "metadata": {},
   "source": [
    "## Debug rust_query_api"
   ]
  },
  {
   "cell_type": "code",
   "execution_count": null,
   "id": "a289a5c7",
   "metadata": {},
   "outputs": [],
   "source": [
    "!curl -X POST http://localhost:9991/query \\\n",
    "    -H \"Content-Type: application/json\" \\\n",
    "        -d '{\"collection\":\"users\", \"operation\":\"find\", \"query\":{\"country\":\"UK\"}}'"
   ]
  }
 ],
 "metadata": {
  "kernelspec": {
   "display_name": "ml",
   "language": "python",
   "name": "python3"
  },
  "language_info": {
   "codemirror_mode": {
    "name": "ipython",
    "version": 3
   },
   "file_extension": ".py",
   "mimetype": "text/x-python",
   "name": "python",
   "nbconvert_exporter": "python",
   "pygments_lexer": "ipython3",
   "version": "3.9.16"
  }
 },
 "nbformat": 4,
 "nbformat_minor": 5
}
